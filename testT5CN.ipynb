{
 "cells": [
  {
   "cell_type": "code",
   "execution_count": null,
   "metadata": {},
   "outputs": [],
   "source": [
    "from transformers import T5ForConditionalGeneration, PreTrainedTokenizerFast\n",
    "\n",
    "tokenizer = PreTrainedTokenizerFast.from_pretrained(\"./model_save/tokenizer/\")\n",
    "\n",
    "class myT5(T5ForConditionalGeneration):\n",
    "    def __init__(self, config):\n",
    "        super().__init__(config)\n",
    "        self.config = config\n",
    "\n",
    "model = myT5.from_pretrained(\"./model_save/\").to(\"mps\")\n"
   ]
  },
  {
   "cell_type": "code",
   "execution_count": null,
   "metadata": {},
   "outputs": [],
   "source": [
    "output_str = \"\"\n",
    "for i in range(100):\n",
    "    input_ids = tokenizer(\"你如何看待机器学习？\"+ output_str, return_tensors=\"pt\").input_ids.to(\"mps\")\n",
    "    outputs = model.generate(input_ids)\n",
    "    output_str = tokenizer.decode(outputs[0], skip_special_tokens=True)\n",
    "    print(output_str)\n",
    "    "
   ]
  },
  {
   "cell_type": "code",
   "execution_count": 1,
   "metadata": {},
   "outputs": [
    {
     "name": "stderr",
     "output_type": "stream",
     "text": [
      "/opt/homebrew/anaconda3/envs/chatlm/lib/python3.10/site-packages/tqdm/auto.py:21: TqdmWarning: IProgress not found. Please update jupyter and ipywidgets. See https://ipywidgets.readthedocs.io/en/stable/user_install.html\n",
      "  from .autonotebook import tqdm as notebook_tqdm\n"
     ]
    }
   ],
   "source": [
    "from model.infer import ChatBot\n",
    "from config import InferConfig"
   ]
  },
  {
   "cell_type": "code",
   "execution_count": 2,
   "metadata": {},
   "outputs": [
    {
     "name": "stdout",
     "output_type": "stream",
     "text": [
      "using mps\n",
      "mps:0\n",
      "你好！机器学习是一种非常有前途的技术，它可以帮助我们自动化许多繁琐的任务，提高工作效率，并为我们提供更多的数据和信息来做出更准确的决策。它可以帮助我们解决许多现实世界中的问题，例如医疗保健、金融、交通和安全等领域。但是，它也带来了一些挑战，例如数据隐私和安全问题，以及对人类就业市场的影响。因此，我们需要在使用机器学习技术时保持谨慎和谨慎的态度，以确保它能够为人类带来最大的利益。\n",
      "mps:0\n",
      "你好！机器学习是一种非常有前途的技术，它可以帮助我们自动化许多繁琐的任务，提高工作效率，并为我们提供更多的数据和信息来做出更准确的决策。它可以帮助我们解决许多现实世界中的问题，例如医疗保健、金融、交通和安全等领域。但是，它也带来了一些挑战，例如数据隐私和安全问题，以及对人类就业市场的影响。因此，我们需要在使用机器学习技术时保持谨慎和谨慎的态度，以确保它能够为人类带来最大的利益。\n",
      "mps:0\n",
      "你好！机器学习是一种非常有前途的技术，它可以帮助我们自动化许多繁琐的任务，提高工作效率，并为我们提供更多的数据和信息来做出更准确的决策。它可以帮助我们解决许多现实世界中的问题，例如医疗保健、金融、交通和安全等领域。但是，它也带来了一些挑战，例如数据隐私和安全问题，以及对人类就业市场的影响。因此，我们需要在使用机器学习技术时保持谨慎和谨慎的态度，以确保它能够为人类带来最大的利益。\n",
      "mps:0\n",
      "你好！机器学习是一种非常有前途的技术，它可以帮助我们自动化许多繁琐的任务，提高工作效率，并为我们提供更多的数据和信息来做出更准确的决策。它可以帮助我们解决许多现实世界中的问题，例如医疗保健、金融、交通和安全等领域。但是，它也带来了一些挑战，例如数据隐私和安全问题，以及对人类就业市场的影响。因此，我们需要在使用机器学习技术时保持谨慎和谨慎的态度，以确保它能够为人类带来最大的利益。\n",
      "mps:0\n",
      "你好！机器学习是一种非常有前途的技术，它可以帮助我们自动化许多繁琐的任务，提高工作效率，并为我们提供更多的数据和信息来做出更准确的决策。它可以帮助我们解决许多现实世界中的问题，例如医疗保健、金融、交通和安全等领域。但是，它也带来了一些挑战，例如数据隐私和安全问题，以及对人类就业市场的影响。因此，我们需要在使用机器学习技术时保持谨慎和谨慎的态度，以确保它能够为人类带来最大的利益。\n",
      "mps:0\n",
      "你好！机器学习是一种非常有前途的技术，它可以帮助我们自动化许多繁琐的任务，提高工作效率，并为我们提供更多的数据和信息来做出更准确的决策。它可以帮助我们解决许多现实世界中的问题，例如医疗保健、金融、交通和安全等领域。但是，它也带来了一些挑战，例如数据隐私和安全问题，以及对人类就业市场的影响。因此，我们需要在使用机器学习技术时保持谨慎和谨慎的态度，以确保它能够为人类带来最大的利益。\n",
      "mps:0\n",
      "你好！机器学习是一种非常有前途的技术，它可以帮助我们自动化许多繁琐的任务，提高工作效率，并为我们提供更多的数据和信息来做出更准确的决策。它可以帮助我们解决许多现实世界中的问题，例如医疗保健、金融、交通和安全等领域。但是，它也带来了一些挑战，例如数据隐私和安全问题，以及对人类就业市场的影响。因此，我们需要在使用机器学习技术时保持谨慎和谨慎的态度，以确保它能够为人类带来最大的利益。\n",
      "mps:0\n",
      "你好！机器学习是一种非常有前途的技术，它可以帮助我们自动化许多繁琐的任务，提高工作效率，并为我们提供更多的数据和信息来做出更准确的决策。它可以帮助我们解决许多现实世界中的问题，例如医疗保健、金融、交通和安全等领域。但是，它也带来了一些挑战，例如数据隐私和安全问题，以及对人类就业市场的影响。因此，我们需要在使用机器学习技术时保持谨慎和谨慎的态度，以确保它能够为人类带来最大的利益。\n",
      "mps:0\n",
      "你好！机器学习是一种非常有前途的技术，它可以帮助我们自动化许多繁琐的任务，提高工作效率，并为我们提供更多的数据和信息来做出更准确的决策。它可以帮助我们解决许多现实世界中的问题，例如医疗保健、金融、交通和安全等领域。但是，它也带来了一些挑战，例如数据隐私和安全问题，以及对人类就业市场的影响。因此，我们需要在使用机器学习技术时保持谨慎和谨慎的态度，以确保它能够为人类带来最大的利益。\n",
      "mps:0\n",
      "你好！机器学习是一种非常有前途的技术，它可以帮助我们自动化许多繁琐的任务，提高工作效率，并为我们提供更多的数据和信息来做出更准确的决策。它可以帮助我们解决许多现实世界中的问题，例如医疗保健、金融、交通和安全等领域。但是，它也带来了一些挑战，例如数据隐私和安全问题，以及对人类就业市场的影响。因此，我们需要在使用机器学习技术时保持谨慎和谨慎的态度，以确保它能够为人类带来最大的利益。\n",
      "mps:0\n",
      "你好！机器学习是一种非常有前途的技术，它可以帮助我们自动化许多繁琐的任务，提高工作效率，并为我们提供更多的数据和信息来做出更准确的决策。它可以帮助我们解决许多现实世界中的问题，例如医疗保健、金融、交通和安全等领域。但是，它也带来了一些挑战，例如数据隐私和安全问题，以及对人类就业市场的影响。因此，我们需要在使用机器学习技术时保持谨慎和谨慎的态度，以确保它能够为人类带来最大的利益。\n",
      "mps:0\n",
      "你好！机器学习是一种非常有前途的技术，它可以帮助我们自动化许多繁琐的任务，提高工作效率，并为我们提供更多的数据和信息来做出更准确的决策。它可以帮助我们解决许多现实世界中的问题，例如医疗保健、金融、交通和安全等领域。但是，它也带来了一些挑战，例如数据隐私和安全问题，以及对人类就业市场的影响。因此，我们需要在使用机器学习技术时保持谨慎和谨慎的态度，以确保它能够为人类带来最大的利益。\n",
      "mps:0\n",
      "你好！机器学习是一种非常有前途的技术，它可以帮助我们自动化许多繁琐的任务，提高工作效率，并为我们提供更多的数据和信息来做出更准确的决策。它可以帮助我们解决许多现实世界中的问题，例如医疗保健、金融、交通和安全等领域。但是，它也带来了一些挑战，例如数据隐私和安全问题，以及对人类就业市场的影响。因此，我们需要在使用机器学习技术时保持谨慎和谨慎的态度，以确保它能够为人类带来最大的利益。\n",
      "mps:0\n",
      "你好！机器学习是一种非常有前途的技术，它可以帮助我们自动化许多繁琐的任务，提高工作效率，并为我们提供更多的数据和信息来做出更准确的决策。它可以帮助我们解决许多现实世界中的问题，例如医疗保健、金融、交通和安全等领域。但是，它也带来了一些挑战，例如数据隐私和安全问题，以及对人类就业市场的影响。因此，我们需要在使用机器学习技术时保持谨慎和谨慎的态度，以确保它能够为人类带来最大的利益。\n",
      "mps:0\n",
      "你好！机器学习是一种非常有前途的技术，它可以帮助我们自动化许多繁琐的任务，提高工作效率，并为我们提供更多的数据和信息来做出更准确的决策。它可以帮助我们解决许多现实世界中的问题，例如医疗保健、金融、交通和安全等领域。但是，它也带来了一些挑战，例如数据隐私和安全问题，以及对人类就业市场的影响。因此，我们需要在使用机器学习技术时保持谨慎和谨慎的态度，以确保它能够为人类带来最大的利益。\n",
      "mps:0\n",
      "你好！机器学习是一种非常有前途的技术，它可以帮助我们自动化许多繁琐的任务，提高工作效率，并为我们提供更多的数据和信息来做出更准确的决策。它可以帮助我们解决许多现实世界中的问题，例如医疗保健、金融、交通和安全等领域。但是，它也带来了一些挑战，例如数据隐私和安全问题，以及对人类就业市场的影响。因此，我们需要在使用机器学习技术时保持谨慎和谨慎的态度，以确保它能够为人类带来最大的利益。\n",
      "mps:0\n",
      "你好！机器学习是一种非常有前途的技术，它可以帮助我们自动化许多繁琐的任务，提高工作效率，并为我们提供更多的数据和信息来做出更准确的决策。它可以帮助我们解决许多现实世界中的问题，例如医疗保健、金融、交通和安全等领域。但是，它也带来了一些挑战，例如数据隐私和安全问题，以及对人类就业市场的影响。因此，我们需要在使用机器学习技术时保持谨慎和谨慎的态度，以确保它能够为人类带来最大的利益。\n",
      "mps:0\n",
      "你好！机器学习是一种非常有前途的技术，它可以帮助我们自动化许多繁琐的任务，提高工作效率，并为我们提供更多的数据和信息来做出更准确的决策。它可以帮助我们解决许多现实世界中的问题，例如医疗保健、金融、交通和安全等领域。但是，它也带来了一些挑战，例如数据隐私和安全问题，以及对人类就业市场的影响。因此，我们需要在使用机器学习技术时保持谨慎和谨慎的态度，以确保它能够为人类带来最大的利益。\n",
      "mps:0\n",
      "你好！机器学习是一种非常有前途的技术，它可以帮助我们自动化许多繁琐的任务，提高工作效率，并为我们提供更多的数据和信息来做出更准确的决策。它可以帮助我们解决许多现实世界中的问题，例如医疗保健、金融、交通和安全等领域。但是，它也带来了一些挑战，例如数据隐私和安全问题，以及对人类就业市场的影响。因此，我们需要在使用机器学习技术时保持谨慎和谨慎的态度，以确保它能够为人类带来最大的利益。\n",
      "mps:0\n",
      "你好！机器学习是一种非常有前途的技术，它可以帮助我们自动化许多繁琐的任务，提高工作效率，并为我们提供更多的数据和信息来做出更准确的决策。它可以帮助我们解决许多现实世界中的问题，例如医疗保健、金融、交通和安全等领域。但是，它也带来了一些挑战，例如数据隐私和安全问题，以及对人类就业市场的影响。因此，我们需要在使用机器学习技术时保持谨慎和谨慎的态度，以确保它能够为人类带来最大的利益。\n",
      "mps:0\n",
      "你好！机器学习是一种非常有前途的技术，它可以帮助我们自动化许多繁琐的任务，提高工作效率，并为我们提供更多的数据和信息来做出更准确的决策。它可以帮助我们解决许多现实世界中的问题，例如医疗保健、金融、交通和安全等领域。但是，它也带来了一些挑战，例如数据隐私和安全问题，以及对人类就业市场的影响。因此，我们需要在使用机器学习技术时保持谨慎和谨慎的态度，以确保它能够为人类带来最大的利益。\n",
      "mps:0\n",
      "你好！机器学习是一种非常有前途的技术，它可以帮助我们自动化许多繁琐的任务，提高工作效率，并为我们提供更多的数据和信息来做出更准确的决策。它可以帮助我们解决许多现实世界中的问题，例如医疗保健、金融、交通和安全等领域。但是，它也带来了一些挑战，例如数据隐私和安全问题，以及对人类就业市场的影响。因此，我们需要在使用机器学习技术时保持谨慎和谨慎的态度，以确保它能够为人类带来最大的利益。\n",
      "mps:0\n",
      "你好！机器学习是一种非常有前途的技术，它可以帮助我们自动化许多繁琐的任务，提高工作效率，并为我们提供更多的数据和信息来做出更准确的决策。它可以帮助我们解决许多现实世界中的问题，例如医疗保健、金融、交通和安全等领域。但是，它也带来了一些挑战，例如数据隐私和安全问题，以及对人类就业市场的影响。因此，我们需要在使用机器学习技术时保持谨慎和谨慎的态度，以确保它能够为人类带来最大的利益。\n",
      "mps:0\n",
      "你好！机器学习是一种非常有前途的技术，它可以帮助我们自动化许多繁琐的任务，提高工作效率，并为我们提供更多的数据和信息来做出更准确的决策。它可以帮助我们解决许多现实世界中的问题，例如医疗保健、金融、交通和安全等领域。但是，它也带来了一些挑战，例如数据隐私和安全问题，以及对人类就业市场的影响。因此，我们需要在使用机器学习技术时保持谨慎和谨慎的态度，以确保它能够为人类带来最大的利益。\n",
      "mps:0\n",
      "你好！机器学习是一种非常有前途的技术，它可以帮助我们自动化许多繁琐的任务，提高工作效率，并为我们提供更多的数据和信息来做出更准确的决策。它可以帮助我们解决许多现实世界中的问题，例如医疗保健、金融、交通和安全等领域。但是，它也带来了一些挑战，例如数据隐私和安全问题，以及对人类就业市场的影响。因此，我们需要在使用机器学习技术时保持谨慎和谨慎的态度，以确保它能够为人类带来最大的利益。\n",
      "mps:0\n",
      "你好！机器学习是一种非常有前途的技术，它可以帮助我们自动化许多繁琐的任务，提高工作效率，并为我们提供更多的数据和信息来做出更准确的决策。它可以帮助我们解决许多现实世界中的问题，例如医疗保健、金融、交通和安全等领域。但是，它也带来了一些挑战，例如数据隐私和安全问题，以及对人类就业市场的影响。因此，我们需要在使用机器学习技术时保持谨慎和谨慎的态度，以确保它能够为人类带来最大的利益。\n",
      "mps:0\n",
      "你好！机器学习是一种非常有前途的技术，它可以帮助我们自动化许多繁琐的任务，提高工作效率，并为我们提供更多的数据和信息来做出更准确的决策。它可以帮助我们解决许多现实世界中的问题，例如医疗保健、金融、交通和安全等领域。但是，它也带来了一些挑战，例如数据隐私和安全问题，以及对人类就业市场的影响。因此，我们需要在使用机器学习技术时保持谨慎和谨慎的态度，以确保它能够为人类带来最大的利益。\n",
      "mps:0\n"
     ]
    },
    {
     "ename": "KeyboardInterrupt",
     "evalue": "",
     "output_type": "error",
     "traceback": [
      "\u001b[0;31m---------------------------------------------------------------------------\u001b[0m",
      "\u001b[0;31mKeyboardInterrupt\u001b[0m                         Traceback (most recent call last)",
      "Cell \u001b[0;32mIn[2], line 3\u001b[0m\n\u001b[1;32m      1\u001b[0m chatbot \u001b[38;5;241m=\u001b[39m ChatBot(InferConfig)\n\u001b[1;32m      2\u001b[0m \u001b[38;5;28;01mfor\u001b[39;00m _ \u001b[38;5;129;01min\u001b[39;00m \u001b[38;5;28mrange\u001b[39m(\u001b[38;5;241m100\u001b[39m):\n\u001b[0;32m----> 3\u001b[0m     \u001b[38;5;28mprint\u001b[39m(\u001b[43mchatbot\u001b[49m\u001b[38;5;241;43m.\u001b[39;49m\u001b[43mchat\u001b[49m\u001b[43m(\u001b[49m\u001b[38;5;124;43m\"\u001b[39;49m\u001b[38;5;124;43m你好，你如何看待机器学习？\u001b[39;49m\u001b[38;5;124;43m\"\u001b[39;49m\u001b[43m)\u001b[49m)\n",
      "File \u001b[0;32m~/lDocuments/Projects/school-days/ml/ChatLM-mini-Chinese/model/infer.py:110\u001b[0m, in \u001b[0;36mChatBot.chat\u001b[0;34m(self, input_txt)\u001b[0m\n\u001b[1;32m    107\u001b[0m input_ids \u001b[38;5;241m=\u001b[39m torch\u001b[38;5;241m.\u001b[39mLongTensor(encoded\u001b[38;5;241m.\u001b[39minput_ids)\u001b[38;5;241m.\u001b[39mto(\u001b[38;5;28mself\u001b[39m\u001b[38;5;241m.\u001b[39mdevice)\n\u001b[1;32m    108\u001b[0m attention_mask \u001b[38;5;241m=\u001b[39m torch\u001b[38;5;241m.\u001b[39mLongTensor(encoded\u001b[38;5;241m.\u001b[39mattention_mask)\u001b[38;5;241m.\u001b[39mto(\u001b[38;5;28mself\u001b[39m\u001b[38;5;241m.\u001b[39mdevice)\n\u001b[0;32m--> 110\u001b[0m outputs \u001b[38;5;241m=\u001b[39m \u001b[38;5;28;43mself\u001b[39;49m\u001b[38;5;241;43m.\u001b[39;49m\u001b[43mmodel\u001b[49m\u001b[38;5;241;43m.\u001b[39;49m\u001b[43mmy_generate\u001b[49m\u001b[43m(\u001b[49m\n\u001b[1;32m    111\u001b[0m \u001b[43m                    \u001b[49m\u001b[43minput_ids\u001b[49m\u001b[38;5;241;43m=\u001b[39;49m\u001b[43minput_ids\u001b[49m\u001b[43m,\u001b[49m\n\u001b[1;32m    112\u001b[0m \u001b[43m                    \u001b[49m\u001b[43mattention_mask\u001b[49m\u001b[38;5;241;43m=\u001b[39;49m\u001b[43mattention_mask\u001b[49m\u001b[43m,\u001b[49m\n\u001b[1;32m    113\u001b[0m \u001b[43m                    \u001b[49m\u001b[43mmax_seq_len\u001b[49m\u001b[38;5;241;43m=\u001b[39;49m\u001b[38;5;28;43mself\u001b[39;49m\u001b[38;5;241;43m.\u001b[39;49m\u001b[43minfer_config\u001b[49m\u001b[38;5;241;43m.\u001b[39;49m\u001b[43mmax_seq_len\u001b[49m\u001b[43m,\u001b[49m\n\u001b[1;32m    114\u001b[0m \u001b[43m                    \u001b[49m\u001b[43msearch_type\u001b[49m\u001b[38;5;241;43m=\u001b[39;49m\u001b[38;5;124;43m'\u001b[39;49m\u001b[38;5;124;43mgreedy\u001b[39;49m\u001b[38;5;124;43m'\u001b[39;49m\u001b[43m,\u001b[49m\n\u001b[1;32m    115\u001b[0m \u001b[43m                \u001b[49m\u001b[43m)\u001b[49m\n\u001b[1;32m    117\u001b[0m outputs \u001b[38;5;241m=\u001b[39m \u001b[38;5;28mself\u001b[39m\u001b[38;5;241m.\u001b[39mbatch_decode(outputs\u001b[38;5;241m.\u001b[39mcpu()\u001b[38;5;241m.\u001b[39mnumpy(),  clean_up_tokenization_spaces\u001b[38;5;241m=\u001b[39m\u001b[38;5;28;01mTrue\u001b[39;00m, skip_special_tokens\u001b[38;5;241m=\u001b[39m\u001b[38;5;28;01mTrue\u001b[39;00m)\n\u001b[1;32m    119\u001b[0m note \u001b[38;5;241m=\u001b[39m \u001b[38;5;124m\"\u001b[39m\u001b[38;5;124m我是一个参数很少的AI模型🥺，知识库较少，无法直接回答您的问题，换个问题试试吧👋\u001b[39m\u001b[38;5;124m\"\u001b[39m\n",
      "File \u001b[0;32m/opt/homebrew/anaconda3/envs/chatlm/lib/python3.10/site-packages/torch/utils/_contextlib.py:115\u001b[0m, in \u001b[0;36mcontext_decorator.<locals>.decorate_context\u001b[0;34m(*args, **kwargs)\u001b[0m\n\u001b[1;32m    112\u001b[0m \u001b[38;5;129m@functools\u001b[39m\u001b[38;5;241m.\u001b[39mwraps(func)\n\u001b[1;32m    113\u001b[0m \u001b[38;5;28;01mdef\u001b[39;00m \u001b[38;5;21mdecorate_context\u001b[39m(\u001b[38;5;241m*\u001b[39margs, \u001b[38;5;241m*\u001b[39m\u001b[38;5;241m*\u001b[39mkwargs):\n\u001b[1;32m    114\u001b[0m     \u001b[38;5;28;01mwith\u001b[39;00m ctx_factory():\n\u001b[0;32m--> 115\u001b[0m         \u001b[38;5;28;01mreturn\u001b[39;00m \u001b[43mfunc\u001b[49m\u001b[43m(\u001b[49m\u001b[38;5;241;43m*\u001b[39;49m\u001b[43margs\u001b[49m\u001b[43m,\u001b[49m\u001b[43m \u001b[49m\u001b[38;5;241;43m*\u001b[39;49m\u001b[38;5;241;43m*\u001b[39;49m\u001b[43mkwargs\u001b[49m\u001b[43m)\u001b[49m\n",
      "File \u001b[0;32m~/lDocuments/Projects/school-days/ml/ChatLM-mini-Chinese/model/chat_model.py:69\u001b[0m, in \u001b[0;36mTextToTextModel.my_generate\u001b[0;34m(self, input_ids, attention_mask, max_seq_len, search_type, streamer)\u001b[0m\n\u001b[1;32m     67\u001b[0m \u001b[38;5;66;03m# print(f'generation_config: {generation_config}')\u001b[39;00m\n\u001b[1;32m     68\u001b[0m \u001b[38;5;28mprint\u001b[39m(\u001b[38;5;28mself\u001b[39m\u001b[38;5;241m.\u001b[39mdevice)\n\u001b[0;32m---> 69\u001b[0m result \u001b[38;5;241m=\u001b[39m \u001b[38;5;28;43mself\u001b[39;49m\u001b[38;5;241;43m.\u001b[39;49m\u001b[43mgenerate\u001b[49m\u001b[43m(\u001b[49m\n\u001b[1;32m     70\u001b[0m \u001b[43m    \u001b[49m\u001b[43minputs\u001b[49m\u001b[38;5;241;43m=\u001b[39;49m\u001b[43minput_ids\u001b[49m\u001b[43m,\u001b[49m\n\u001b[1;32m     71\u001b[0m \u001b[43m    \u001b[49m\u001b[43mattention_mask\u001b[49m\u001b[38;5;241;43m=\u001b[39;49m\u001b[43mattention_mask\u001b[49m\u001b[43m,\u001b[49m\n\u001b[1;32m     72\u001b[0m \u001b[43m    \u001b[49m\u001b[43mgeneration_config\u001b[49m\u001b[38;5;241;43m=\u001b[39;49m\u001b[43mgeneration_config\u001b[49m\u001b[43m,\u001b[49m\n\u001b[1;32m     73\u001b[0m \u001b[43m    \u001b[49m\u001b[43mstreamer\u001b[49m\u001b[38;5;241;43m=\u001b[39;49m\u001b[43mstreamer\u001b[49m\u001b[43m,\u001b[49m\n\u001b[1;32m     74\u001b[0m \u001b[43m    \u001b[49m\u001b[43m)\u001b[49m\n\u001b[1;32m     76\u001b[0m \u001b[38;5;28;01mreturn\u001b[39;00m result\n",
      "File \u001b[0;32m/opt/homebrew/anaconda3/envs/chatlm/lib/python3.10/site-packages/torch/utils/_contextlib.py:115\u001b[0m, in \u001b[0;36mcontext_decorator.<locals>.decorate_context\u001b[0;34m(*args, **kwargs)\u001b[0m\n\u001b[1;32m    112\u001b[0m \u001b[38;5;129m@functools\u001b[39m\u001b[38;5;241m.\u001b[39mwraps(func)\n\u001b[1;32m    113\u001b[0m \u001b[38;5;28;01mdef\u001b[39;00m \u001b[38;5;21mdecorate_context\u001b[39m(\u001b[38;5;241m*\u001b[39margs, \u001b[38;5;241m*\u001b[39m\u001b[38;5;241m*\u001b[39mkwargs):\n\u001b[1;32m    114\u001b[0m     \u001b[38;5;28;01mwith\u001b[39;00m ctx_factory():\n\u001b[0;32m--> 115\u001b[0m         \u001b[38;5;28;01mreturn\u001b[39;00m \u001b[43mfunc\u001b[49m\u001b[43m(\u001b[49m\u001b[38;5;241;43m*\u001b[39;49m\u001b[43margs\u001b[49m\u001b[43m,\u001b[49m\u001b[43m \u001b[49m\u001b[38;5;241;43m*\u001b[39;49m\u001b[38;5;241;43m*\u001b[39;49m\u001b[43mkwargs\u001b[49m\u001b[43m)\u001b[49m\n",
      "File \u001b[0;32m/opt/homebrew/anaconda3/envs/chatlm/lib/python3.10/site-packages/transformers/generation/utils.py:1718\u001b[0m, in \u001b[0;36mGenerationMixin.generate\u001b[0;34m(self, inputs, generation_config, logits_processor, stopping_criteria, prefix_allowed_tokens_fn, synced_gpus, assistant_model, streamer, negative_prompt_ids, negative_prompt_attention_mask, **kwargs)\u001b[0m\n\u001b[1;32m   1701\u001b[0m     \u001b[38;5;28;01mreturn\u001b[39;00m \u001b[38;5;28mself\u001b[39m\u001b[38;5;241m.\u001b[39massisted_decoding(\n\u001b[1;32m   1702\u001b[0m         input_ids,\n\u001b[1;32m   1703\u001b[0m         assistant_model\u001b[38;5;241m=\u001b[39massistant_model,\n\u001b[0;32m   (...)\u001b[0m\n\u001b[1;32m   1714\u001b[0m         \u001b[38;5;241m*\u001b[39m\u001b[38;5;241m*\u001b[39mmodel_kwargs,\n\u001b[1;32m   1715\u001b[0m     )\n\u001b[1;32m   1716\u001b[0m \u001b[38;5;28;01mif\u001b[39;00m generation_mode \u001b[38;5;241m==\u001b[39m GenerationMode\u001b[38;5;241m.\u001b[39mGREEDY_SEARCH:\n\u001b[1;32m   1717\u001b[0m     \u001b[38;5;66;03m# 11. run greedy search\u001b[39;00m\n\u001b[0;32m-> 1718\u001b[0m     \u001b[38;5;28;01mreturn\u001b[39;00m \u001b[38;5;28;43mself\u001b[39;49m\u001b[38;5;241;43m.\u001b[39;49m\u001b[43mgreedy_search\u001b[49m\u001b[43m(\u001b[49m\n\u001b[1;32m   1719\u001b[0m \u001b[43m        \u001b[49m\u001b[43minput_ids\u001b[49m\u001b[43m,\u001b[49m\n\u001b[1;32m   1720\u001b[0m \u001b[43m        \u001b[49m\u001b[43mlogits_processor\u001b[49m\u001b[38;5;241;43m=\u001b[39;49m\u001b[43mlogits_processor\u001b[49m\u001b[43m,\u001b[49m\n\u001b[1;32m   1721\u001b[0m \u001b[43m        \u001b[49m\u001b[43mstopping_criteria\u001b[49m\u001b[38;5;241;43m=\u001b[39;49m\u001b[43mstopping_criteria\u001b[49m\u001b[43m,\u001b[49m\n\u001b[1;32m   1722\u001b[0m \u001b[43m        \u001b[49m\u001b[43mpad_token_id\u001b[49m\u001b[38;5;241;43m=\u001b[39;49m\u001b[43mgeneration_config\u001b[49m\u001b[38;5;241;43m.\u001b[39;49m\u001b[43mpad_token_id\u001b[49m\u001b[43m,\u001b[49m\n\u001b[1;32m   1723\u001b[0m \u001b[43m        \u001b[49m\u001b[43meos_token_id\u001b[49m\u001b[38;5;241;43m=\u001b[39;49m\u001b[43mgeneration_config\u001b[49m\u001b[38;5;241;43m.\u001b[39;49m\u001b[43meos_token_id\u001b[49m\u001b[43m,\u001b[49m\n\u001b[1;32m   1724\u001b[0m \u001b[43m        \u001b[49m\u001b[43moutput_scores\u001b[49m\u001b[38;5;241;43m=\u001b[39;49m\u001b[43mgeneration_config\u001b[49m\u001b[38;5;241;43m.\u001b[39;49m\u001b[43moutput_scores\u001b[49m\u001b[43m,\u001b[49m\n\u001b[1;32m   1725\u001b[0m \u001b[43m        \u001b[49m\u001b[43mreturn_dict_in_generate\u001b[49m\u001b[38;5;241;43m=\u001b[39;49m\u001b[43mgeneration_config\u001b[49m\u001b[38;5;241;43m.\u001b[39;49m\u001b[43mreturn_dict_in_generate\u001b[49m\u001b[43m,\u001b[49m\n\u001b[1;32m   1726\u001b[0m \u001b[43m        \u001b[49m\u001b[43msynced_gpus\u001b[49m\u001b[38;5;241;43m=\u001b[39;49m\u001b[43msynced_gpus\u001b[49m\u001b[43m,\u001b[49m\n\u001b[1;32m   1727\u001b[0m \u001b[43m        \u001b[49m\u001b[43mstreamer\u001b[49m\u001b[38;5;241;43m=\u001b[39;49m\u001b[43mstreamer\u001b[49m\u001b[43m,\u001b[49m\n\u001b[1;32m   1728\u001b[0m \u001b[43m        \u001b[49m\u001b[38;5;241;43m*\u001b[39;49m\u001b[38;5;241;43m*\u001b[39;49m\u001b[43mmodel_kwargs\u001b[49m\u001b[43m,\u001b[49m\n\u001b[1;32m   1729\u001b[0m \u001b[43m    \u001b[49m\u001b[43m)\u001b[49m\n\u001b[1;32m   1731\u001b[0m \u001b[38;5;28;01melif\u001b[39;00m generation_mode \u001b[38;5;241m==\u001b[39m GenerationMode\u001b[38;5;241m.\u001b[39mCONTRASTIVE_SEARCH:\n\u001b[1;32m   1732\u001b[0m     \u001b[38;5;28;01mif\u001b[39;00m \u001b[38;5;129;01mnot\u001b[39;00m model_kwargs[\u001b[38;5;124m\"\u001b[39m\u001b[38;5;124muse_cache\u001b[39m\u001b[38;5;124m\"\u001b[39m]:\n",
      "File \u001b[0;32m/opt/homebrew/anaconda3/envs/chatlm/lib/python3.10/site-packages/transformers/generation/utils.py:2613\u001b[0m, in \u001b[0;36mGenerationMixin.greedy_search\u001b[0;34m(self, input_ids, logits_processor, stopping_criteria, max_length, pad_token_id, eos_token_id, output_attentions, output_hidden_states, output_scores, return_dict_in_generate, synced_gpus, streamer, **model_kwargs)\u001b[0m\n\u001b[1;32m   2606\u001b[0m         decoder_hidden_states \u001b[38;5;241m+\u001b[39m\u001b[38;5;241m=\u001b[39m (\n\u001b[1;32m   2607\u001b[0m             (outputs\u001b[38;5;241m.\u001b[39mdecoder_hidden_states,)\n\u001b[1;32m   2608\u001b[0m             \u001b[38;5;28;01mif\u001b[39;00m \u001b[38;5;28mself\u001b[39m\u001b[38;5;241m.\u001b[39mconfig\u001b[38;5;241m.\u001b[39mis_encoder_decoder\n\u001b[1;32m   2609\u001b[0m             \u001b[38;5;28;01melse\u001b[39;00m (outputs\u001b[38;5;241m.\u001b[39mhidden_states,)\n\u001b[1;32m   2610\u001b[0m         )\n\u001b[1;32m   2612\u001b[0m \u001b[38;5;66;03m# argmax\u001b[39;00m\n\u001b[0;32m-> 2613\u001b[0m next_tokens \u001b[38;5;241m=\u001b[39m \u001b[43mtorch\u001b[49m\u001b[38;5;241;43m.\u001b[39;49m\u001b[43margmax\u001b[49m\u001b[43m(\u001b[49m\u001b[43mnext_tokens_scores\u001b[49m\u001b[43m,\u001b[49m\u001b[43m \u001b[49m\u001b[43mdim\u001b[49m\u001b[38;5;241;43m=\u001b[39;49m\u001b[38;5;241;43m-\u001b[39;49m\u001b[38;5;241;43m1\u001b[39;49m\u001b[43m)\u001b[49m\n\u001b[1;32m   2615\u001b[0m \u001b[38;5;66;03m# finished sentences should have their next token be a padding token\u001b[39;00m\n\u001b[1;32m   2616\u001b[0m \u001b[38;5;28;01mif\u001b[39;00m eos_token_id \u001b[38;5;129;01mis\u001b[39;00m \u001b[38;5;129;01mnot\u001b[39;00m \u001b[38;5;28;01mNone\u001b[39;00m:\n",
      "\u001b[0;31mKeyboardInterrupt\u001b[0m: "
     ]
    }
   ],
   "source": [
    "chatbot = ChatBot(InferConfig)\n",
    "for _ in range(100):\n",
    "    print(chatbot.chat(\"你好，你如何看待机器学习？\"))\n"
   ]
  }
 ],
 "metadata": {
  "kernelspec": {
   "display_name": "chatlm",
   "language": "python",
   "name": "python3"
  },
  "language_info": {
   "codemirror_mode": {
    "name": "ipython",
    "version": 3
   },
   "file_extension": ".py",
   "mimetype": "text/x-python",
   "name": "python",
   "nbconvert_exporter": "python",
   "pygments_lexer": "ipython3",
   "version": "3.1.0"
  }
 },
 "nbformat": 4,
 "nbformat_minor": 2
}
